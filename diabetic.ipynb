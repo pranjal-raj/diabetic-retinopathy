{
  "nbformat": 4,
  "nbformat_minor": 0,
  "metadata": {
    "colab": {
      "provenance": []
    },
    "kernelspec": {
      "name": "python3",
      "display_name": "Python 3"
    },
    "language_info": {
      "name": "python"
    }
  },
  "cells": [
    {
      "cell_type": "code",
      "execution_count": 1,
      "metadata": {
        "id": "VVOMpfucOteX",
        "colab": {
          "base_uri": "https://localhost:8080/"
        },
        "outputId": "9d447d7b-4565-418f-81df-f34f162ea5de"
      },
      "outputs": [
        {
          "output_type": "stream",
          "name": "stdout",
          "text": [
            "Archive:  /content/diabetic-retinopathy-dataset.zip\n",
            "  End-of-central-directory signature not found.  Either this file is not\n",
            "  a zipfile, or it constitutes one disk of a multi-part archive.  In the\n",
            "  latter case the central directory and zipfile comment will be found on\n",
            "  the last disk(s) of this archive.\n",
            "unzip:  cannot find zipfile directory in one of /content/diabetic-retinopathy-dataset.zip or\n",
            "        /content/diabetic-retinopathy-dataset.zip.zip, and cannot find /content/diabetic-retinopathy-dataset.zip.ZIP, period.\n"
          ]
        }
      ],
      "source": [
        "!unzip /content/diabetic-retinopathy-dataset.zip -d /content/dataset\n"
      ]
    },
    {
      "cell_type": "code",
      "source": [
        "import numpy as np\n",
        "import random\n",
        "import matplotlib.pyplot as plt\n",
        "from tensorflow.keras.models import Sequential\n",
        "from tensorflow.keras.layers import Dense, Conv2D, Flatten, MaxPooling2D\n",
        "from tensorflow.keras.utils import to_categorical\n",
        "from tensorflow.keras.preprocessing.image import ImageDataGenerator"
      ],
      "metadata": {
        "id": "yKeCurNbi2dL"
      },
      "execution_count": 3,
      "outputs": []
    },
    {
      "cell_type": "code",
      "source": [
        "import os\n",
        "from zipfile import ZipFile\n",
        "from sklearn.model_selection import train_test_split\n",
        "\n",
        "\n",
        "zip_file_path = '/content/diabetic-retinopathy-dataset.zip'"
      ],
      "metadata": {
        "id": "RjFH4nLIjBh3"
      },
      "execution_count": 4,
      "outputs": []
    },
    {
      "cell_type": "code",
      "source": [
        "extraction_path = '/content/dataset'"
      ],
      "metadata": {
        "id": "NWsBCZaRjwnk"
      },
      "execution_count": 5,
      "outputs": []
    },
    {
      "cell_type": "code",
      "source": [
        " with ZipFile(zip_file_path, 'r') as zip_ref:\n",
        "     zip_ref.extractall(extraction_path)\n",
        "\n",
        "dataset_path = extraction_path\n",
        "train_path = '/content/train'\n",
        "val_path = '/content/val'\n"
      ],
      "metadata": {
        "id": "XYd12Uqsj0P5"
      },
      "execution_count": 7,
      "outputs": []
    },
    {
      "cell_type": "code",
      "source": [
        "contents = os.listdir('/content')\n",
        "print(contents)\n"
      ],
      "metadata": {
        "colab": {
          "base_uri": "https://localhost:8080/"
        },
        "id": "Dk_Am1mvkGNA",
        "outputId": "f5012f8d-790d-4fa9-af32-6ac4a265345c"
      },
      "execution_count": 10,
      "outputs": [
        {
          "output_type": "stream",
          "name": "stdout",
          "text": [
            "['.config', 'diabetic-retinopathy-dataset.zip', 'sample_data']\n"
          ]
        }
      ]
    },
    {
      "cell_type": "code",
      "source": [
        "for cls in os.listdir(dataset_path):\n",
        "    os.makedirs(os.path.join(train_path, cls), exist_ok=True)\n",
        "    os.makedirs(os.path.join(val_path, cls), exist_ok=True)"
      ],
      "metadata": {
        "id": "LR8NCkzclBv6"
      },
      "execution_count": null,
      "outputs": []
    },
    {
      "cell_type": "code",
      "source": [
        "for cls in os.listdir(dataset_path):\n",
        "    cls_path = os.path.join(dataset_path, cls)\n",
        "    images = os.listdir(cls_path)\n",
        "    train_images, val_images = train_test_split(images, test_size=0.2, random_state=42)\n"
      ],
      "metadata": {
        "id": "OsgqSFC0mbrC"
      },
      "execution_count": 17,
      "outputs": []
    },
    {
      "cell_type": "code",
      "source": [
        "for img in train_images:\n",
        "        src = os.path.join(cls_path, img)\n",
        "        dest = os.path.join(train_path, cls, img)\n",
        "        os.rename(src, dest)"
      ],
      "metadata": {
        "id": "9p1Q8dBxmiVK"
      },
      "execution_count": null,
      "outputs": []
    },
    {
      "cell_type": "code",
      "source": [
        "for img in val_images:\n",
        "        src = os.path.join(cls_path, img)\n",
        "        dest = os.path.join(val_path, cls, img)\n",
        "        os.rename(src, dest)"
      ],
      "metadata": {
        "id": "OHlGptOBmqW3"
      },
      "execution_count": null,
      "outputs": []
    },
    {
      "cell_type": "code",
      "source": [
        "history = model.fit(\n",
        "    train_generator,\n",
        "    steps_per_epoch=train_generator.samples\n",
        "    epochs=15,\n",
        "    validation_data=validation_generator,\n",
        "    validation_steps=validation_generator.samples\n",
        ")\n",
        "\n",
        "loss, accuracy = model.evaluate(validation_generator)\n",
        "print(f'Validation Loss: {loss}, Validation Accuracy: {accuracy}')"
      ],
      "metadata": {
        "id": "cTLXFbRumu8S"
      },
      "execution_count": null,
      "outputs": []
    }
  ]
}